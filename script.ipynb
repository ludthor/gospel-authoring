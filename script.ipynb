{
 "cells": [
  {
   "cell_type": "markdown",
   "metadata": {},
   "source": [
    "Now that we have generated the datasets for every book. We must proceed to input to the learning model"
   ]
  },
  {
   "cell_type": "code",
   "execution_count": 335,
   "metadata": {},
   "outputs": [],
   "source": [
    "from fastai.text import * \n",
    "from sklearn.model_selection import train_test_split"
   ]
  },
  {
   "cell_type": "code",
   "execution_count": 336,
   "metadata": {},
   "outputs": [
    {
     "data": {
      "text/html": [
       "<div>\n",
       "<style scoped>\n",
       "    .dataframe tbody tr th:only-of-type {\n",
       "        vertical-align: middle;\n",
       "    }\n",
       "\n",
       "    .dataframe tbody tr th {\n",
       "        vertical-align: top;\n",
       "    }\n",
       "\n",
       "    .dataframe thead th {\n",
       "        text-align: right;\n",
       "    }\n",
       "</style>\n",
       "<table border=\"1\" class=\"dataframe\">\n",
       "  <thead>\n",
       "    <tr style=\"text-align: right;\">\n",
       "      <th></th>\n",
       "      <th>label</th>\n",
       "      <th>text</th>\n",
       "    </tr>\n",
       "  </thead>\n",
       "  <tbody>\n",
       "    <tr>\n",
       "      <th>0</th>\n",
       "      <td>1</td>\n",
       "      <td>está: Al Señor tu Dios adorarás, y a él sólo s...</td>\n",
       "    </tr>\n",
       "    <tr>\n",
       "      <th>1</th>\n",
       "      <td>1</td>\n",
       "      <td>hasta la deportación a Babilonia, catorce; y d...</td>\n",
       "    </tr>\n",
       "    <tr>\n",
       "      <th>2</th>\n",
       "      <td>1</td>\n",
       "      <td>delante de ellos, hasta que llegando, se detuv...</td>\n",
       "    </tr>\n",
       "    <tr>\n",
       "      <th>3</th>\n",
       "      <td>1</td>\n",
       "      <td>¿Hasta cuándo he de estar con vosotros? ¿Hasta...</td>\n",
       "    </tr>\n",
       "    <tr>\n",
       "      <th>4</th>\n",
       "      <td>1</td>\n",
       "      <td>que me confiese delante de los hombres, yo tam...</td>\n",
       "    </tr>\n",
       "    <tr>\n",
       "      <th>...</th>\n",
       "      <td>...</td>\n",
       "      <td>...</td>\n",
       "    </tr>\n",
       "    <tr>\n",
       "      <th>165</th>\n",
       "      <td>4</td>\n",
       "      <td>por causa de mi nombre, porque no conocen al q...</td>\n",
       "    </tr>\n",
       "    <tr>\n",
       "      <th>166</th>\n",
       "      <td>4</td>\n",
       "      <td>judíos respondieron y le dijeron: ¿Qué señal n...</td>\n",
       "    </tr>\n",
       "    <tr>\n",
       "      <th>167</th>\n",
       "      <td>4</td>\n",
       "      <td>del cielo y da vida al mundo. Le dijeron: Seño...</td>\n",
       "    </tr>\n",
       "    <tr>\n",
       "      <th>168</th>\n",
       "      <td>4</td>\n",
       "      <td>he dicho estas cosas, tristeza ha llenado vues...</td>\n",
       "    </tr>\n",
       "    <tr>\n",
       "      <th>169</th>\n",
       "      <td>4</td>\n",
       "      <td>entendiendo Jesús que iban a venir para apoder...</td>\n",
       "    </tr>\n",
       "  </tbody>\n",
       "</table>\n",
       "<p>680 rows × 2 columns</p>\n",
       "</div>"
      ],
      "text/plain": [
       "     label                                               text\n",
       "0        1  está: Al Señor tu Dios adorarás, y a él sólo s...\n",
       "1        1  hasta la deportación a Babilonia, catorce; y d...\n",
       "2        1  delante de ellos, hasta que llegando, se detuv...\n",
       "3        1  ¿Hasta cuándo he de estar con vosotros? ¿Hasta...\n",
       "4        1  que me confiese delante de los hombres, yo tam...\n",
       "..     ...                                                ...\n",
       "165      4  por causa de mi nombre, porque no conocen al q...\n",
       "166      4  judíos respondieron y le dijeron: ¿Qué señal n...\n",
       "167      4  del cielo y da vida al mundo. Le dijeron: Seño...\n",
       "168      4  he dicho estas cosas, tristeza ha llenado vues...\n",
       "169      4  entendiendo Jesús que iban a venir para apoder...\n",
       "\n",
       "[680 rows x 2 columns]"
      ]
     },
     "execution_count": 336,
     "metadata": {},
     "output_type": "execute_result"
    }
   ],
   "source": [
    "path = 'processed/'\n",
    "gospels = ['Mateo' , 'Marcos', 'Lucas', 'Juan']\n",
    "\n",
    "df = []\n",
    "\n",
    "for g in gospels:\n",
    "    df_temp = pd.read_csv(path+g+'.csv')\n",
    "    df_temp = df_temp.loc[:, ~df_temp.columns.str.contains('^Unnamed')]\n",
    "    df.append(df_temp)\n",
    "\n",
    "df = pd.concat(df)\n",
    "df.columns= ['text', 'label']\n",
    "df = df[['label', 'text']]\n",
    "df"
   ]
  },
  {
   "cell_type": "code",
   "execution_count": 337,
   "metadata": {},
   "outputs": [
    {
     "data": {
      "text/html": [
       "<div>\n",
       "<style scoped>\n",
       "    .dataframe tbody tr th:only-of-type {\n",
       "        vertical-align: middle;\n",
       "    }\n",
       "\n",
       "    .dataframe tbody tr th {\n",
       "        vertical-align: top;\n",
       "    }\n",
       "\n",
       "    .dataframe thead th {\n",
       "        text-align: right;\n",
       "    }\n",
       "</style>\n",
       "<table border=\"1\" class=\"dataframe\">\n",
       "  <thead>\n",
       "    <tr style=\"text-align: right;\">\n",
       "      <th></th>\n",
       "      <th>text</th>\n",
       "    </tr>\n",
       "    <tr>\n",
       "      <th>label</th>\n",
       "      <th></th>\n",
       "    </tr>\n",
       "  </thead>\n",
       "  <tbody>\n",
       "    <tr>\n",
       "      <th>1</th>\n",
       "      <td>170</td>\n",
       "    </tr>\n",
       "    <tr>\n",
       "      <th>2</th>\n",
       "      <td>170</td>\n",
       "    </tr>\n",
       "    <tr>\n",
       "      <th>3</th>\n",
       "      <td>170</td>\n",
       "    </tr>\n",
       "    <tr>\n",
       "      <th>4</th>\n",
       "      <td>170</td>\n",
       "    </tr>\n",
       "  </tbody>\n",
       "</table>\n",
       "</div>"
      ],
      "text/plain": [
       "       text\n",
       "label      \n",
       "1       170\n",
       "2       170\n",
       "3       170\n",
       "4       170"
      ]
     },
     "execution_count": 337,
     "metadata": {},
     "output_type": "execute_result"
    }
   ],
   "source": [
    "df.groupby('label').count()"
   ]
  },
  {
   "cell_type": "code",
   "execution_count": 338,
   "metadata": {},
   "outputs": [],
   "source": [
    "train, val = train_test_split(df)"
   ]
  },
  {
   "cell_type": "code",
   "execution_count": 339,
   "metadata": {},
   "outputs": [
    {
     "data": {
      "text/html": [],
      "text/plain": [
       "<IPython.core.display.HTML object>"
      ]
     },
     "metadata": {},
     "output_type": "display_data"
    },
    {
     "data": {
      "text/html": [],
      "text/plain": [
       "<IPython.core.display.HTML object>"
      ]
     },
     "metadata": {},
     "output_type": "display_data"
    }
   ],
   "source": [
    "# Language model data\n",
    "data_lm = TextLMDataBunch.from_df('.', train_df= train, valid_df=val)"
   ]
  },
  {
   "cell_type": "code",
   "execution_count": 340,
   "metadata": {},
   "outputs": [
    {
     "data": {
      "text/html": [],
      "text/plain": [
       "<IPython.core.display.HTML object>"
      ]
     },
     "metadata": {},
     "output_type": "display_data"
    },
    {
     "data": {
      "text/html": [],
      "text/plain": [
       "<IPython.core.display.HTML object>"
      ]
     },
     "metadata": {},
     "output_type": "display_data"
    }
   ],
   "source": [
    "# Classifier model data\n",
    "data_clas = TextClasDataBunch.from_df('.', train_df= train,\n",
    "                                      valid_df=val, \n",
    "                                      vocab=data_lm.train_ds.vocab,\n",
    "                                      bs=16)"
   ]
  },
  {
   "cell_type": "code",
   "execution_count": 341,
   "metadata": {},
   "outputs": [
    {
     "data": {
      "text/html": [
       "<table border=\"1\" class=\"dataframe\">\n",
       "  <thead>\n",
       "    <tr style=\"text-align: left;\">\n",
       "      <th>epoch</th>\n",
       "      <th>train_loss</th>\n",
       "      <th>valid_loss</th>\n",
       "      <th>accuracy</th>\n",
       "      <th>time</th>\n",
       "    </tr>\n",
       "  </thead>\n",
       "  <tbody>\n",
       "    <tr>\n",
       "      <td>0</td>\n",
       "      <td>6.503870</td>\n",
       "      <td>5.262466</td>\n",
       "      <td>0.182589</td>\n",
       "      <td>01:07</td>\n",
       "    </tr>\n",
       "    <tr>\n",
       "      <td>1</td>\n",
       "      <td>5.530221</td>\n",
       "      <td>4.301196</td>\n",
       "      <td>0.232254</td>\n",
       "      <td>01:08</td>\n",
       "    </tr>\n",
       "    <tr>\n",
       "      <td>2</td>\n",
       "      <td>5.024015</td>\n",
       "      <td>4.213665</td>\n",
       "      <td>0.239732</td>\n",
       "      <td>01:08</td>\n",
       "    </tr>\n",
       "  </tbody>\n",
       "</table>"
      ],
      "text/plain": [
       "<IPython.core.display.HTML object>"
      ]
     },
     "metadata": {},
     "output_type": "display_data"
    }
   ],
   "source": [
    "learn = language_model_learner(data_lm, AWD_LSTM, drop_mult=0.5, opt_func=optim.RMSprop)\n",
    "learn.crit = F.cross_entropy\n",
    "learn.fit_one_cycle(3, 1e-3)"
   ]
  },
  {
   "cell_type": "code",
   "execution_count": 342,
   "metadata": {},
   "outputs": [],
   "source": [
    "learn.save_encoder('ft_enc')"
   ]
  },
  {
   "cell_type": "code",
   "execution_count": 343,
   "metadata": {},
   "outputs": [],
   "source": [
    "learn = text_classifier_learner(data_clas, AWD_LSTM, drop_mult=0.5,  opt_func=optim.RMSprop )\n",
    "learn.load_encoder('ft_enc')\n",
    "learn.crit = F.cross_entropy"
   ]
  },
  {
   "cell_type": "code",
   "execution_count": 344,
   "metadata": {},
   "outputs": [
    {
     "data": {
      "text/html": [
       "<table border=\"1\" class=\"dataframe\">\n",
       "  <thead>\n",
       "    <tr style=\"text-align: right;\">\n",
       "      <th>text</th>\n",
       "      <th>target</th>\n",
       "    </tr>\n",
       "  </thead>\n",
       "  <tbody>\n",
       "    <tr>\n",
       "      <td>xxbos de la deportación a xxmaj babilonia , xxmaj xxunk engendró a xxmaj salatiel , y xxmaj salatiel a xxmaj zorobabel . xxmaj zorobabel engendró a xxmaj abiud , xxmaj abiud a xxmaj eliaquim , y xxmaj eliaquim a xxmaj azor . xxmaj azor engendró a xxmaj sadoc , xxmaj sadoc a xxmaj aquim , y xxmaj aquim a xxmaj eliud . xxmaj eliud engendró a xxmaj eleazar , xxmaj</td>\n",
       "      <td>1</td>\n",
       "    </tr>\n",
       "    <tr>\n",
       "      <td>xxbos a conocer . xxmaj este es el testimonio de xxmaj juan , cuando los judíos enviaron de xxmaj jerusalén sacerdotes y xxunk para que le xxunk : ¿ xxmaj tú , quién eres ? xxmaj confesó , y no negó , sino confesó : xxmaj yo no soy el xxmaj cristo . y le preguntaron : ¿ xxmaj qué pues ? ¿ xxmaj eres tú xxmaj elías ? xxmaj</td>\n",
       "      <td>4</td>\n",
       "    </tr>\n",
       "    <tr>\n",
       "      <td>xxbos es el xxmaj hijo del xxmaj hombre ? xxmaj ellos dijeron : xxmaj unos , xxmaj juan el xxmaj bautista ; otros , xxmaj elías ; y otros , xxmaj jeremías , o alguno de los profetas . xxmaj el les dijo : y vosotros , ¿ quién decís que soy yo ? xxmaj respondiendo xxmaj simón xxmaj pedro , dijo : xxmaj tú eres el xxmaj cristo ,</td>\n",
       "      <td>1</td>\n",
       "    </tr>\n",
       "    <tr>\n",
       "      <td>xxbos vio a xxmaj jesús que estaba allí ; mas no sabía que era xxmaj jesús . xxmaj jesús le dijo : xxmaj mujer , ¿ por qué xxunk ? ¿ a quién xxunk ? xxmaj ella , pensando que era el xxunk , le dijo : xxmaj señor , si tú lo has llevado , xxunk dónde lo has puesto , y yo lo xxunk . xxmaj jesús le</td>\n",
       "      <td>4</td>\n",
       "    </tr>\n",
       "    <tr>\n",
       "      <td>xxbos xxmaj natanael le dijo : ¿ xxmaj de xxmaj nazaret puede salir algo de bueno ? xxmaj le dijo xxmaj felipe : xxmaj ven y ve . xxmaj cuando xxmaj jesús vio a xxmaj natanael que se le acercaba , dijo de él : xxmaj he aquí un verdadero xxunk , en quien no hay engaño . xxmaj le dijo xxmaj natanael : ¿ xxmaj de dónde me xxunk</td>\n",
       "      <td>4</td>\n",
       "    </tr>\n",
       "  </tbody>\n",
       "</table>"
      ],
      "text/plain": [
       "<IPython.core.display.HTML object>"
      ]
     },
     "metadata": {},
     "output_type": "display_data"
    }
   ],
   "source": [
    "data_clas.show_batch()"
   ]
  },
  {
   "cell_type": "code",
   "execution_count": 345,
   "metadata": {},
   "outputs": [
    {
     "data": {
      "text/html": [
       "<table border=\"1\" class=\"dataframe\">\n",
       "  <thead>\n",
       "    <tr style=\"text-align: left;\">\n",
       "      <th>epoch</th>\n",
       "      <th>train_loss</th>\n",
       "      <th>valid_loss</th>\n",
       "      <th>accuracy</th>\n",
       "      <th>time</th>\n",
       "    </tr>\n",
       "  </thead>\n",
       "  <tbody>\n",
       "    <tr>\n",
       "      <td>0</td>\n",
       "      <td>1.535006</td>\n",
       "      <td>1.555218</td>\n",
       "      <td>0.294118</td>\n",
       "      <td>01:32</td>\n",
       "    </tr>\n",
       "    <tr>\n",
       "      <td>1</td>\n",
       "      <td>1.478428</td>\n",
       "      <td>1.545568</td>\n",
       "      <td>0.323529</td>\n",
       "      <td>01:32</td>\n",
       "    </tr>\n",
       "    <tr>\n",
       "      <td>2</td>\n",
       "      <td>1.429185</td>\n",
       "      <td>1.807818</td>\n",
       "      <td>0.235294</td>\n",
       "      <td>01:31</td>\n",
       "    </tr>\n",
       "    <tr>\n",
       "      <td>3</td>\n",
       "      <td>1.421706</td>\n",
       "      <td>1.487196</td>\n",
       "      <td>0.317647</td>\n",
       "      <td>01:33</td>\n",
       "    </tr>\n",
       "    <tr>\n",
       "      <td>4</td>\n",
       "      <td>1.407771</td>\n",
       "      <td>1.388234</td>\n",
       "      <td>0.294118</td>\n",
       "      <td>01:32</td>\n",
       "    </tr>\n",
       "    <tr>\n",
       "      <td>5</td>\n",
       "      <td>1.377134</td>\n",
       "      <td>1.329673</td>\n",
       "      <td>0.347059</td>\n",
       "      <td>01:34</td>\n",
       "    </tr>\n",
       "    <tr>\n",
       "      <td>6</td>\n",
       "      <td>1.344787</td>\n",
       "      <td>1.298890</td>\n",
       "      <td>0.358824</td>\n",
       "      <td>01:33</td>\n",
       "    </tr>\n",
       "    <tr>\n",
       "      <td>7</td>\n",
       "      <td>1.325062</td>\n",
       "      <td>1.299885</td>\n",
       "      <td>0.305882</td>\n",
       "      <td>01:33</td>\n",
       "    </tr>\n",
       "    <tr>\n",
       "      <td>8</td>\n",
       "      <td>1.328234</td>\n",
       "      <td>1.292800</td>\n",
       "      <td>0.411765</td>\n",
       "      <td>01:31</td>\n",
       "    </tr>\n",
       "    <tr>\n",
       "      <td>9</td>\n",
       "      <td>1.310014</td>\n",
       "      <td>1.301038</td>\n",
       "      <td>0.382353</td>\n",
       "      <td>01:32</td>\n",
       "    </tr>\n",
       "    <tr>\n",
       "      <td>10</td>\n",
       "      <td>1.278954</td>\n",
       "      <td>1.298447</td>\n",
       "      <td>0.405882</td>\n",
       "      <td>01:33</td>\n",
       "    </tr>\n",
       "    <tr>\n",
       "      <td>11</td>\n",
       "      <td>1.255816</td>\n",
       "      <td>1.374328</td>\n",
       "      <td>0.347059</td>\n",
       "      <td>01:32</td>\n",
       "    </tr>\n",
       "    <tr>\n",
       "      <td>12</td>\n",
       "      <td>1.215034</td>\n",
       "      <td>1.302131</td>\n",
       "      <td>0.364706</td>\n",
       "      <td>01:33</td>\n",
       "    </tr>\n",
       "    <tr>\n",
       "      <td>13</td>\n",
       "      <td>1.192926</td>\n",
       "      <td>1.298185</td>\n",
       "      <td>0.358824</td>\n",
       "      <td>01:33</td>\n",
       "    </tr>\n",
       "    <tr>\n",
       "      <td>14</td>\n",
       "      <td>1.186320</td>\n",
       "      <td>1.312225</td>\n",
       "      <td>0.352941</td>\n",
       "      <td>01:33</td>\n",
       "    </tr>\n",
       "  </tbody>\n",
       "</table>"
      ],
      "text/plain": [
       "<IPython.core.display.HTML object>"
      ]
     },
     "metadata": {},
     "output_type": "display_data"
    }
   ],
   "source": [
    "learn.fit_one_cycle(15, slice(1e-3,1e-2))"
   ]
  },
  {
   "cell_type": "code",
   "execution_count": 346,
   "metadata": {},
   "outputs": [
    {
     "data": {
      "text/html": [
       "<table border=\"1\" class=\"dataframe\">\n",
       "  <thead>\n",
       "    <tr style=\"text-align: right;\">\n",
       "      <th>text</th>\n",
       "      <th>target</th>\n",
       "      <th>prediction</th>\n",
       "    </tr>\n",
       "  </thead>\n",
       "  <tbody>\n",
       "    <tr>\n",
       "      <td>xxbos hijo de xxmaj xxunk , hijo de xxmaj xxunk , hijo de xxmaj xxunk , hijo de xxmaj xxunk , hijo de xxmaj xxunk , hijo de xxmaj xxunk , hijo de xxmaj xxunk , hijo de xxmaj xxunk , hijo de xxmaj xxunk , hijo de xxmaj xxunk , hijo de xxmaj josé , hijo de xxmaj xxunk , hijo de xxmaj eliaquim , hijo de xxmaj xxunk</td>\n",
       "      <td>3</td>\n",
       "      <td>1</td>\n",
       "    </tr>\n",
       "    <tr>\n",
       "      <td>xxbos y el rey xxmaj david engendró a xxmaj salomón de la que fue mujer de xxmaj xxunk . xxmaj salomón engendró a xxmaj xxunk , xxmaj xxunk a xxmaj xxunk , y xxmaj xxunk a xxmaj xxunk . xxmaj xxunk engendró a xxmaj xxunk , xxmaj xxunk a xxmaj xxunk , y xxmaj xxunk a xxmaj xxunk . xxmaj xxunk engendró a xxmaj xxunk , xxmaj xxunk a xxmaj</td>\n",
       "      <td>1</td>\n",
       "      <td>1</td>\n",
       "    </tr>\n",
       "    <tr>\n",
       "      <td>xxbos hombres ? xxmaj xxunk . xxmaj entonces ellos discutían entre sí , diciendo : xxmaj si decimos , del cielo , xxunk : ¿ xxmaj por qué , pues , no le creísteis ? ¿ y si decimos , de los hombres xxunk ? xxmaj pero temían al pueblo , pues todos tenían a xxmaj juan como un verdadero profeta . xxmaj así que , respondiendo , dijeron a</td>\n",
       "      <td>2</td>\n",
       "      <td>4</td>\n",
       "    </tr>\n",
       "    <tr>\n",
       "      <td>xxbos cuando oyeron que xxmaj jesús pasaba , xxunk , diciendo : ¡ xxmaj señor , xxmaj hijo de xxmaj david , ten misericordia de nosotros ! y la gente les reprendió para que xxunk ; pero ellos xxunk más , diciendo : ¡ xxmaj señor , xxmaj hijo de xxmaj david , ten misericordia de nosotros ! y deteniéndose xxmaj jesús , los llamó , y les dijo :</td>\n",
       "      <td>1</td>\n",
       "      <td>2</td>\n",
       "    </tr>\n",
       "    <tr>\n",
       "      <td>xxbos vino uno xxunk , e xxunk la xxunk delante de él , le preguntó : xxmaj maestro bueno , ¿ qué haré para xxunk la vida eterna ? xxmaj jesús le dijo : ¿ xxmaj por qué me llamas bueno ? xxmaj ninguno hay bueno , sino sólo uno , xxmaj dios . xxmaj los mandamientos sabes : xxmaj no xxunk . xxmaj no xxunk . xxmaj no xxunk</td>\n",
       "      <td>2</td>\n",
       "      <td>4</td>\n",
       "    </tr>\n",
       "  </tbody>\n",
       "</table>"
      ],
      "text/plain": [
       "<IPython.core.display.HTML object>"
      ]
     },
     "metadata": {},
     "output_type": "display_data"
    }
   ],
   "source": [
    "learn.show_results()"
   ]
  },
  {
   "cell_type": "code",
   "execution_count": 347,
   "metadata": {},
   "outputs": [
    {
     "data": {
      "text/html": [],
      "text/plain": [
       "<IPython.core.display.HTML object>"
      ]
     },
     "metadata": {},
     "output_type": "display_data"
    },
    {
     "data": {
      "image/png": "[encoded data removed]",
      "text/plain": [
       "<Figure size 432x288 with 1 Axes>"
      ]
     },
     "metadata": {
      "needs_background": "light"
     },
     "output_type": "display_data"
    }
   ],
   "source": [
    "interp = ClassificationInterpretation.from_learner(learn)\n",
    "interp.plot_confusion_matrix()"
   ]
  },
  {
   "cell_type": "code",
   "execution_count": 348,
   "metadata": {},
   "outputs": [],
   "source": [
    "import warnings\n",
    "warnings.filterwarnings(\"ignore\", category=UserWarning)"
   ]
  },
  {
   "cell_type": "code",
   "execution_count": 354,
   "metadata": {},
   "outputs": [
    {
     "name": "stdout",
     "output_type": "stream",
     "text": [
      "Probabilities:  [0.17282870411872864, 0.11537151038646698, 0.3769582509994507, 0.3348414897918701]\n",
      "Text: (Hechos) pero recibiréis poder, cuando haya venido sobre vosotros el Espíritu Santo, y me seréis testigos en Jerusalén, en toda Judea, en Samaria, y hasta lo último de la tierra. Y habiendo dicho estas cosas, viéndolo ellos, fue alzado, y le recibió una nube que le ocultó de sus ojos.\n",
      "This text was probably taken from:  Lucas\n",
      "\n",
      "\n",
      "Probabilities:  [0.17227928340435028, 0.37146198749542236, 0.3278094232082367, 0.12844932079315186]\n",
      "Text: (Marcos) Decía además: Así es el reino de Dios, como cuando un hombre echa semilla en la tierra; y duerme y se levanta, de noche y de día, y la semilla brota y crece sin que él sepa cómo. Porque de suyo lleva fruto la tierra, primero hierba, luego espiga, después grano lleno en la espiga; y cuando el fruto está maduro, en seguida se mete la hoz, porque la siega ha llegado.\n",
      "This text was probably taken from:  Marcos\n",
      "\n",
      "\n",
      "Probabilities:  [0.1261557936668396, 0.15264663100242615, 0.09047002345323563, 0.6307275295257568]\n",
      "Text: (1 de Juan) El que dice: Yo le conozco, y no guarda sus mandamientos, el tal es mentiroso, y la verdad no está en él;\n",
      "This text was probably taken from:  Juan\n"
     ]
    }
   ],
   "source": [
    "pred = learn.predict('pero recibiréis poder, cuando haya venido sobre vosotros el Espíritu Santo, y me seréis testigos en Jerusalén, en toda Judea, en Samaria, y hasta lo último de la tierra. Y habiendo dicho estas cosas, viéndolo ellos, fue alzado, y le recibió una nube que le ocultó de sus ojos.')\n",
    "print(\"Probabilities: \", pred[2].tolist())\n",
    "pred_index = pred[2].tolist().index(max(pred[2]))\n",
    "print('Text: (Hechos) pero recibiréis poder, cuando haya venido sobre vosotros el Espíritu Santo, y me seréis testigos en Jerusalén, en toda Judea, en Samaria, y hasta lo último de la tierra. Y habiendo dicho estas cosas, viéndolo ellos, fue alzado, y le recibió una nube que le ocultó de sus ojos.')\n",
    "print(\"This text was probably taken from: \" ,gospels[pred_index])\n",
    "print('\\n')\n",
    "pred = learn.predict('Decía además: Así es el reino de Dios, como cuando un hombre echa semilla en la tierra; y duerme y se levanta, de noche y de día, y la semilla brota y crece sin que él sepa cómo. Porque de suyo lleva fruto la tierra, primero hierba, luego espiga, después grano lleno en la espiga; y cuando el fruto está maduro, en seguida se mete la hoz, porque la siega ha llegado.')\n",
    "print(\"Probabilities: \", pred[2].tolist())\n",
    "pred_index = pred[2].tolist().index(max(pred[2]))\n",
    "print('Text: (Marcos) Decía además: Así es el reino de Dios, como cuando un hombre echa semilla en la tierra; y duerme y se levanta, de noche y de día, y la semilla brota y crece sin que él sepa cómo. Porque de suyo lleva fruto la tierra, primero hierba, luego espiga, después grano lleno en la espiga; y cuando el fruto está maduro, en seguida se mete la hoz, porque la siega ha llegado.')\n",
    "print(\"This text was probably taken from: \" ,gospels[pred_index])\n",
    "print('\\n')\n",
    "pred = learn.predict('El que dice: Yo le conozco, y no guarda sus mandamientos, el tal es mentiroso, y la verdad no está en él;')\n",
    "print(\"Probabilities: \", pred[2].tolist())\n",
    "pred_index = pred[2].tolist().index(max(pred[2]))\n",
    "print('Text: (1 de Juan) El que dice: Yo le conozco, y no guarda sus mandamientos, el tal es mentiroso, y la verdad no está en él;')\n",
    "print(\"This text was probably taken from: \" ,gospels[pred_index])\n"
   ]
  },
  {
   "cell_type": "code",
   "execution_count": null,
   "metadata": {},
   "outputs": [],
   "source": []
  }
 ],
 "metadata": {
  "kernelspec": {
   "display_name": "Python 3",
   "language": "python",
   "name": "python3"
  },
  "language_info": {
   "codemirror_mode": {
    "name": "ipython",
    "version": 3
   },
   "file_extension": ".py",
   "mimetype": "text/x-python",
   "name": "python",
   "nbconvert_exporter": "python",
   "pygments_lexer": "ipython3",
   "version": "3.8.2"
  }
 },
 "nbformat": 4,
 "nbformat_minor": 4
}
