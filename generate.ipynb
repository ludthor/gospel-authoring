{
 "cells": [
  {
   "cell_type": "markdown",
   "metadata": {},
   "source": [
    "Let's load the data from the 4 gospels"
   ]
  },
  {
   "cell_type": "code",
   "execution_count": 63,
   "metadata": {},
   "outputs": [],
   "source": [
    "import random\n",
    "import pandas as pd"
   ]
  },
  {
   "cell_type": "code",
   "execution_count": 64,
   "metadata": {},
   "outputs": [],
   "source": [
    "gospels = ['Mateo', 'Marcos', 'Lucas', 'Juan']"
   ]
  },
  {
   "cell_type": "code",
   "execution_count": 65,
   "metadata": {},
   "outputs": [],
   "source": [
    "# Python program to read  \n",
    "# file word by word \n",
    "   \n",
    "# opening the text file \n",
    "gospel_dict = {}\n",
    "for gospel in gospels:\n",
    "    gospel_in_array = []\n",
    "    with open(r'./input/'+gospel+'.txt','r', encoding='utf-8') as file: \n",
    "        # reading each line     \n",
    "        for line in file: \n",
    "            line = ''.join([i for i in line if not i.isdigit()])\n",
    "            # reading each word         \n",
    "            for word in line.split(): \n",
    "                # displaying the words            \n",
    "                gospel_in_array.append(word)\n",
    "    gospel_dict[gospel] = gospel_in_array\n",
    "    "
   ]
  },
  {
   "cell_type": "code",
   "execution_count": 66,
   "metadata": {},
   "outputs": [],
   "source": [
    "labels = {'Mateo' : 1, 'Marcos' : 2, 'Lucas': 3, 'Juan': 4}\n",
    "\n",
    "min_len = 5\n",
    "max_len = 15\n",
    "\n",
    "rand_len = random.randint(min_len,max_len)\n",
    "\n",
    "\n",
    "\n",
    "for gospel, data  in gospel_dict.items():\n",
    "    bottom = 0\n",
    "    #top = bottom + random.randint(min_len,max_len)\n",
    "    top = bottom + 75\n",
    "    list_processed = []\n",
    "    while(top < len(data)):\n",
    "        slice = data[bottom:top]\n",
    "        slice = ' '.join(slice)\n",
    "        list_processed.append((slice,labels[gospel]))\n",
    "        bottom = top\n",
    "        #top = bottom + random.randint(min_len,max_len)\n",
    "        top = bottom + 75\n",
    "    #print(list_processed)\n",
    "    #Random samplig for balance dataset\n",
    "    list_processed = random.sample(list_processed, 170)\n",
    "    df = pd.DataFrame(list_processed, columns =['Text', 'Gospel'])\n",
    "    df.to_csv('./processed/' + gospel + '.csv')\n"
   ]
  },
  {
   "cell_type": "code",
   "execution_count": null,
   "metadata": {},
   "outputs": [],
   "source": []
  }
 ],
 "metadata": {
  "kernelspec": {
   "display_name": "Python 3",
   "language": "python",
   "name": "python3"
  },
  "language_info": {
   "codemirror_mode": {
    "name": "ipython",
    "version": 3
   },
   "file_extension": ".py",
   "mimetype": "text/x-python",
   "name": "python",
   "nbconvert_exporter": "python",
   "pygments_lexer": "ipython3",
   "version": "3.8.2"
  }
 },
 "nbformat": 4,
 "nbformat_minor": 4
}
